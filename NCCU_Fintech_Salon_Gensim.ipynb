{
 "cells": [
  {
   "cell_type": "markdown",
   "metadata": {},
   "source": [
    "# <center>Gensim </center>\n",
    "<center>Shan-Hao Yu, Tammy Chang &amp; IBMGBS Data Scientist Team<br/>Dec 2019</center>"
   ]
  },
  {
   "cell_type": "markdown",
   "metadata": {},
   "source": [
    "## 文字檔(txt)的讀取與轉換"
   ]
  },
  {
   "cell_type": "code",
   "execution_count": 1,
   "metadata": {},
   "outputs": [],
   "source": [
    "import os\n",
    "import pandas as pd\n",
    "import numpy as np\n",
    "import string"
   ]
  },
  {
   "cell_type": "code",
   "execution_count": 2,
   "metadata": {},
   "outputs": [],
   "source": [
    "TRAINING_PATH = 'dataset/'"
   ]
  },
  {
   "cell_type": "code",
   "execution_count": 3,
   "metadata": {},
   "outputs": [],
   "source": [
    "with open(TRAINING_PATH+'data_1_cut.txt') as f:\n",
    "    docs = f.readlines()"
   ]
  },
  {
   "cell_type": "code",
   "execution_count": 4,
   "metadata": {},
   "outputs": [
    {
     "name": "stdout",
     "output_type": "stream",
     "text": [
      "Length of list: 4529\n",
      "Length of first docs: 24\n"
     ]
    }
   ],
   "source": [
    "print (\"Length of list: {}\".format(len(docs)))\n",
    "print (\"Length of first docs: {}\".format(len(docs[0])))"
   ]
  },
  {
   "cell_type": "code",
   "execution_count": 5,
   "metadata": {},
   "outputs": [
    {
     "data": {
      "text/plain": [
       "' 1 . 患者 老年 女性 ， 88 歲 ； \\n'"
      ]
     },
     "execution_count": 5,
     "metadata": {},
     "output_type": "execute_result"
    }
   ],
   "source": [
    "docs[0]"
   ]
  },
  {
   "cell_type": "code",
   "execution_count": 6,
   "metadata": {},
   "outputs": [],
   "source": [
    "docs_list = []\n",
    "for d in docs:\n",
    "    token_list = d.strip().split(\" \")\n",
    "    del_list = []\n",
    "    for t in token_list:\n",
    "        if len(t) < 2:\n",
    "            del_list.append(t)\n",
    "        elif t.isdigit():\n",
    "            del_list.append(t)\n",
    "        elif t in string.punctuation:\n",
    "            del_list.append(t)\n",
    "    for d in del_list:\n",
    "        token_list.remove(d)\n",
    "    docs_list.append(token_list)"
   ]
  },
  {
   "cell_type": "code",
   "execution_count": 7,
   "metadata": {},
   "outputs": [
    {
     "name": "stdout",
     "output_type": "stream",
     "text": [
      "Length of list: 4529\n",
      "Length of first docs: 3\n"
     ]
    }
   ],
   "source": [
    "print (\"Length of list: {}\".format(len(docs_list)))\n",
    "print (\"Length of first docs: {}\".format(len(docs_list[0])))"
   ]
  },
  {
   "cell_type": "code",
   "execution_count": 8,
   "metadata": {},
   "outputs": [
    {
     "data": {
      "text/plain": [
       "['患者', '老年', '女性']"
      ]
     },
     "execution_count": 8,
     "metadata": {},
     "output_type": "execute_result"
    }
   ],
   "source": [
    "docs_list[0]"
   ]
  },
  {
   "cell_type": "markdown",
   "metadata": {},
   "source": [
    "# 〈Gensim Word2Vec 簡易教學〉\n",
    "\n",
    "### Word2Vec 的 input 可以是 1D list 或 2D list（亦可直接使用 numpy 或 pandas 的結構）\n",
    "> **1D list：**[ '我愛林書豪', '你是周杰倫' ] → 會被 Word2Vec 以單個字元分詞成 [[ '我', '愛', '林', '書' , '豪' ], [ '你', '是', '周', '杰' , '倫' ]] 來訓練 <br>\n",
    "> **2D list：**[[ '我', '愛', '林書豪' ], [ '你', '是' , '周杰倫' ]] →  Word2Vec 會直接使用我們分好的詞來訓練\n",
    "\n",
    "### Q1: 我們應該將分詞好的文本處理成哪種資料結構呢？\n"
   ]
  },
  {
   "cell_type": "markdown",
   "metadata": {},
   "source": [
    "### Step1: 要先引入引用Gensim 中的 Word2Vec 模組"
   ]
  },
  {
   "cell_type": "code",
   "execution_count": 9,
   "metadata": {},
   "outputs": [],
   "source": [
    "####################################################\n",
    "############### Your Code Here #####################\n",
    "\n",
    "\n",
    "from gensim.models.word2vec import Word2Vec\n",
    "\n",
    "\n",
    "############### End of Code ########################\n",
    "####################################################"
   ]
  },
  {
   "cell_type": "markdown",
   "metadata": {},
   "source": [
    "### Step2: 把2D資料結構，直接扔進Word2Vec就大功告成啦！"
   ]
  },
  {
   "cell_type": "code",
   "execution_count": 10,
   "metadata": {},
   "outputs": [],
   "source": [
    "####################################################\n",
    "############### Your Code Here #####################\n",
    "\n",
    "\n",
    "model = Word2Vec(docs_list)\n",
    "\n",
    "\n",
    "############### End of Code ########################\n",
    "####################################################"
   ]
  },
  {
   "cell_type": "markdown",
   "metadata": {},
   "source": [
    "### 接下來我們要檢驗訓練好的詞向量模型\n",
    "（先定義個函式，可以一次比較很多個詞的相似詞）"
   ]
  },
  {
   "cell_type": "code",
   "execution_count": 11,
   "metadata": {},
   "outputs": [],
   "source": [
    "def most_similar(w2v_model, words, topn=10):\n",
    "    similar_df = pd.DataFrame()\n",
    "    for word in words:\n",
    "        try:\n",
    "            similar_words = pd.DataFrame(w2v_model.wv.most_similar(word, topn=topn), columns=[word, 'cos'])\n",
    "            similar_df = pd.concat([similar_df, similar_words], axis=1)\n",
    "        except:\n",
    "            print(word, \"not found in Word2Vec model!\")\n",
    "    return similar_df"
   ]
  },
  {
   "cell_type": "markdown",
   "metadata": {},
   "source": [
    "### Step3: 隨意挑選詞彙，檢視與其最相似的10個詞"
   ]
  },
  {
   "cell_type": "code",
   "execution_count": 12,
   "metadata": {},
   "outputs": [
    {
     "data": {
      "text/html": [
       "<div>\n",
       "<style scoped>\n",
       "    .dataframe tbody tr th:only-of-type {\n",
       "        vertical-align: middle;\n",
       "    }\n",
       "\n",
       "    .dataframe tbody tr th {\n",
       "        vertical-align: top;\n",
       "    }\n",
       "\n",
       "    .dataframe thead th {\n",
       "        text-align: right;\n",
       "    }\n",
       "</style>\n",
       "<table border=\"1\" class=\"dataframe\">\n",
       "  <thead>\n",
       "    <tr style=\"text-align: right;\">\n",
       "      <th></th>\n",
       "      <th>手術</th>\n",
       "      <th>cos</th>\n",
       "      <th>頭痛</th>\n",
       "      <th>cos</th>\n",
       "      <th>高血壓</th>\n",
       "      <th>cos</th>\n",
       "      <th>患者</th>\n",
       "      <th>cos</th>\n",
       "      <th>飲食</th>\n",
       "      <th>cos</th>\n",
       "    </tr>\n",
       "  </thead>\n",
       "  <tbody>\n",
       "    <tr>\n",
       "      <th>0</th>\n",
       "      <td>切除</td>\n",
       "      <td>0.883152</td>\n",
       "      <td>頭暈</td>\n",
       "      <td>0.989464</td>\n",
       "      <td>患高血壓</td>\n",
       "      <td>0.970171</td>\n",
       "      <td>根據</td>\n",
       "      <td>0.902671</td>\n",
       "      <td>睡眠</td>\n",
       "      <td>0.964288</td>\n",
       "    </tr>\n",
       "    <tr>\n",
       "      <th>1</th>\n",
       "      <td>曾行</td>\n",
       "      <td>0.873097</td>\n",
       "      <td>發作性</td>\n",
       "      <td>0.941589</td>\n",
       "      <td>余年</td>\n",
       "      <td>0.962972</td>\n",
       "      <td>出院</td>\n",
       "      <td>0.897232</td>\n",
       "      <td>二便</td>\n",
       "      <td>0.940607</td>\n",
       "    </tr>\n",
       "    <tr>\n",
       "      <th>2</th>\n",
       "      <td>結核病</td>\n",
       "      <td>0.862889</td>\n",
       "      <td>痛頭暈</td>\n",
       "      <td>0.941290</td>\n",
       "      <td>患有</td>\n",
       "      <td>0.959479</td>\n",
       "      <td>入院</td>\n",
       "      <td>0.888514</td>\n",
       "      <td>尿量</td>\n",
       "      <td>0.934845</td>\n",
       "    </tr>\n",
       "    <tr>\n",
       "      <th>3</th>\n",
       "      <td>健骨</td>\n",
       "      <td>0.856224</td>\n",
       "      <td>當時</td>\n",
       "      <td>0.939297</td>\n",
       "      <td>糖尿病</td>\n",
       "      <td>0.946746</td>\n",
       "      <td>因車</td>\n",
       "      <td>0.874961</td>\n",
       "      <td>小便</td>\n",
       "      <td>0.879966</td>\n",
       "    </tr>\n",
       "    <tr>\n",
       "      <th>4</th>\n",
       "      <td>輸血史</td>\n",
       "      <td>0.842276</td>\n",
       "      <td>惡心</td>\n",
       "      <td>0.937660</td>\n",
       "      <td>病史</td>\n",
       "      <td>0.943863</td>\n",
       "      <td>青年</td>\n",
       "      <td>0.846627</td>\n",
       "      <td>精神</td>\n",
       "      <td>0.878993</td>\n",
       "    </tr>\n",
       "    <tr>\n",
       "      <th>5</th>\n",
       "      <td>疤痕</td>\n",
       "      <td>0.836724</td>\n",
       "      <td>無頭</td>\n",
       "      <td>0.932084</td>\n",
       "      <td>否認</td>\n",
       "      <td>0.941270</td>\n",
       "      <td>中年</td>\n",
       "      <td>0.838752</td>\n",
       "      <td>大便</td>\n",
       "      <td>0.857742</td>\n",
       "    </tr>\n",
       "    <tr>\n",
       "      <th>6</th>\n",
       "      <td>行闌尾</td>\n",
       "      <td>0.833616</td>\n",
       "      <td>憋氣</td>\n",
       "      <td>0.918995</td>\n",
       "      <td>肝炎</td>\n",
       "      <td>0.939690</td>\n",
       "      <td>女性</td>\n",
       "      <td>0.838130</td>\n",
       "      <td>尚可</td>\n",
       "      <td>0.815596</td>\n",
       "    </tr>\n",
       "    <tr>\n",
       "      <th>7</th>\n",
       "      <td>在院</td>\n",
       "      <td>0.832596</td>\n",
       "      <td>傷後頭</td>\n",
       "      <td>0.914943</td>\n",
       "      <td>無高血壓</td>\n",
       "      <td>0.933922</td>\n",
       "      <td>中老年</td>\n",
       "      <td>0.836613</td>\n",
       "      <td>狀況</td>\n",
       "      <td>0.803358</td>\n",
       "    </tr>\n",
       "    <tr>\n",
       "      <th>8</th>\n",
       "      <td>過敏</td>\n",
       "      <td>0.830678</td>\n",
       "      <td>暈頭</td>\n",
       "      <td>0.914864</td>\n",
       "      <td>既往</td>\n",
       "      <td>0.930451</td>\n",
       "      <td>本次</td>\n",
       "      <td>0.836194</td>\n",
       "      <td>以來</td>\n",
       "      <td>0.802982</td>\n",
       "    </tr>\n",
       "    <tr>\n",
       "      <th>9</th>\n",
       "      <td>應用</td>\n",
       "      <td>0.829067</td>\n",
       "      <td>旋轉</td>\n",
       "      <td>0.901741</td>\n",
       "      <td>服藥</td>\n",
       "      <td>0.929631</td>\n",
       "      <td>手續</td>\n",
       "      <td>0.834691</td>\n",
       "      <td>意識</td>\n",
       "      <td>0.802260</td>\n",
       "    </tr>\n",
       "  </tbody>\n",
       "</table>\n",
       "</div>"
      ],
      "text/plain": [
       "    手術       cos   頭痛       cos   高血壓       cos   患者       cos  飲食       cos\n",
       "0   切除  0.883152   頭暈  0.989464  患高血壓  0.970171   根據  0.902671  睡眠  0.964288\n",
       "1   曾行  0.873097  發作性  0.941589    余年  0.962972   出院  0.897232  二便  0.940607\n",
       "2  結核病  0.862889  痛頭暈  0.941290    患有  0.959479   入院  0.888514  尿量  0.934845\n",
       "3   健骨  0.856224   當時  0.939297   糖尿病  0.946746   因車  0.874961  小便  0.879966\n",
       "4  輸血史  0.842276   惡心  0.937660    病史  0.943863   青年  0.846627  精神  0.878993\n",
       "5   疤痕  0.836724   無頭  0.932084    否認  0.941270   中年  0.838752  大便  0.857742\n",
       "6  行闌尾  0.833616   憋氣  0.918995    肝炎  0.939690   女性  0.838130  尚可  0.815596\n",
       "7   在院  0.832596  傷後頭  0.914943  無高血壓  0.933922  中老年  0.836613  狀況  0.803358\n",
       "8   過敏  0.830678   暈頭  0.914864    既往  0.930451   本次  0.836194  以來  0.802982\n",
       "9   應用  0.829067   旋轉  0.901741    服藥  0.929631   手續  0.834691  意識  0.802260"
      ]
     },
     "execution_count": 12,
     "metadata": {},
     "output_type": "execute_result"
    }
   ],
   "source": [
    "most_similar(model, ['手術', '頭痛', '高血壓', '患者', '飲食'])"
   ]
  },
  {
   "cell_type": "code",
   "execution_count": 14,
   "metadata": {},
   "outputs": [
    {
     "data": {
      "text/plain": [
       "[('血管', 0.0036724755),\n",
       " ('藥物', 0.0025589878),\n",
       " ('手術', 0.0018424459),\n",
       " ('過敏史', 0.0015976289),\n",
       " ('否認', 0.0015774762),\n",
       " ('血糖', 0.0014271232),\n",
       " ('血脂', 0.0014131888),\n",
       " ('擴張', 0.0012661027),\n",
       " ('過敏', 0.0012221286),\n",
       " ('輸血史', 0.0012156666)]"
      ]
     },
     "execution_count": 14,
     "metadata": {},
     "output_type": "execute_result"
    }
   ],
   "source": [
    "model.predict_output_word(['手術'],10)"
   ]
  },
  {
   "cell_type": "markdown",
   "metadata": {},
   "source": [
    "### Step4: 最後用 save() 與 load() 來存取訓練好的 Word2Vec 模型"
   ]
  },
  {
   "cell_type": "code",
   "execution_count": 15,
   "metadata": {},
   "outputs": [],
   "source": [
    "####################################################\n",
    "############### Your Code Here #####################\n",
    "\n",
    "\n",
    "model.save('word2vec.model')\n",
    "\n",
    "\n",
    "############### End of Code ########################\n",
    "####################################################\n",
    "\n",
    "## Load the model \n",
    "model = Word2Vec.load('word2vec.model')"
   ]
  },
  {
   "cell_type": "markdown",
   "metadata": {},
   "source": [
    "<a id=\"guide\"></a>\n",
    "# 〈Gensim Word2Vec 參數調整〉\n",
    "### 準則：\n",
    "1.  請先準備一個訓練快速的陽春模型，先把feature處理到你滿意為止再開始調整模型 <br>\n",
    "    feature決定了準確度的上限，調整模型只是讓我們盡可能接近這個上限而已 <br>\n",
    "    \n",
    "2.   請不要抱持對每個參數都亂調一遍的心態，合理的猜想可以節省很多時間 <br>\n",
    "   比起去亂調參數，不如花時間去了解這些參數背後的理論 <br>\n",
    "   \n",
    "3.   請勿用你的肉眼來斷定詞向量模型的好壞，交給你的模型來判斷 <br>\n",
    "   看起來很爛的詞向量，深度學習或許可以從中找出肉眼看不見的規則"
   ]
  },
  {
   "cell_type": "markdown",
   "metadata": {},
   "source": [
    "### **size**=100：詞向量的維度大小，維度太小會無法有效表達詞與詞的關係，維度太大會使關係太稀疏而難以找出規則 \n",
    "    在一些資料分析的比賽(Kaggle)上常用的詞向量維度介於200到300之間\n",
    "### **iter=5**：訓練的回數，訓練過少會使得詞關係過為鬆散，訓練過度又會使得詞關係過為極端\n",
    "    當使用較大的詞向量維度時，可能會需要訓練更多次。\n",
    "### **sg**=0：sg=0時以CBOW來訓練，sg=1時以Skip-gram來訓練\n",
    "    某些詞彙可能只出現在特定的主題當中，所以文本中可能有許多低頻詞\n",
    "    而在特性上，Skip-gram比CBOW通常對低頻詞有更好的訓練效果\n",
    "###  **window=5**：CBOW下決定Word2Vec一次取多少詞來預測中間詞（Skip-gram的狀況是反過來的）\n",
    "    需要多少詞才能預測中間詞 or 要讓多少詞的含意來影響中間詞的含意\n",
    "    思考完就自己作點實驗吧～\n",
    "### **min_count=5**：出現次數大於等於min_count的詞，才會納入Word2Vec的詞典中\n",
    "### **max_vocab_size=None**：Word2Vec的詞典容納上限，出現次數最低的詞會優先被剔除\n",
    "    降低詞典的最大詞數，可能讓模型更容易抓到規則（噪音減少了），但也可能更難抓到規則（認識的詞太少）\n",
    "### **hs=0**：hs=0時採用Negative Sampling，hs=1時採用Hierarchical Softmax\n",
    "### **negative=5**：Negative Sampling的取樣數量，5~20適合小數據，2~5適合大數據\n",
    "    這會直接影響權重更新的方法，原理有點複雜我不敢亂解釋，請自己去翻論文_(:з」∠)_ \n",
    "### **workers=3**：訓練用的線程數量（可以加快訓練速度）"
   ]
  },
  {
   "cell_type": "markdown",
   "metadata": {},
   "source": [
    "### 如果是你，會朝什麼方向調整模型的參數呢？"
   ]
  },
  {
   "cell_type": "code",
   "execution_count": null,
   "metadata": {},
   "outputs": [],
   "source": [
    "####################################################\n",
    "############### Your Code Here #####################\n",
    "\n",
    "\n",
    "model_2 = Word2Vec(docs_list,size=200,iter=8, min_count=50)\n",
    "most_similar(model_2, ['手術', '頭痛', '高血壓', '患者', '飲食'])\n",
    "\n",
    "\n",
    "############### End of Code ########################\n",
    "####################################################"
   ]
  },
  {
   "cell_type": "code",
   "execution_count": null,
   "metadata": {},
   "outputs": [],
   "source": [
    "model_2.predict_output_word(['手術'],10)"
   ]
  },
  {
   "cell_type": "code",
   "execution_count": null,
   "metadata": {},
   "outputs": [],
   "source": []
  }
 ],
 "metadata": {
  "kernelspec": {
   "display_name": "Python 3",
   "language": "python",
   "name": "python3"
  },
  "language_info": {
   "codemirror_mode": {
    "name": "ipython",
    "version": 3
   },
   "file_extension": ".py",
   "mimetype": "text/x-python",
   "name": "python",
   "nbconvert_exporter": "python",
   "pygments_lexer": "ipython3",
   "version": "3.7.2"
  }
 },
 "nbformat": 4,
 "nbformat_minor": 2
}
